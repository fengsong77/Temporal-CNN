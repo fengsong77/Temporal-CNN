{
 "cells": [
  {
   "cell_type": "code",
   "execution_count": 27,
   "metadata": {
    "scrolled": true
   },
   "outputs": [],
   "source": [
    "import os, sys, math, random, time\n",
    "from datetime import datetime\n",
    "import _pickle as pickle\n",
    "\n",
    "import numpy as np\n",
    "import pandas as pd\n",
    "\n",
    "import mxnet as mx\n",
    "from mxnet import autograd, gluon, nd, gpu\n",
    "from mxnet.gluon import nn\n",
    "\n",
    "from simple_tcn_multi_channel_multi_output_correct import TCN\n",
    "from trainer_small import nn_trainer\n",
    "\n",
    "### The input dataset\n",
    "ctx = mx.gpu(3)\n",
    "with open('/home/chenyixiong4/TCN_traffic/data/tensor_prepare_alldata.pkl', 'rb') as f:\n",
    "    [trainX_dt,train_X2_dt, trainY_dt,testX_dt, test_X2_dt,testY_dt] = pickle.load(f)"
   ]
  },
  {
   "cell_type": "code",
   "execution_count": 24,
   "metadata": {},
   "outputs": [
    {
     "data": {
      "text/plain": [
       "array([ 0.,  1.,  2.,  3.,  4.,  5.,  6.,  7.,  8.,  9., 10., 11., 12.,\n",
       "       13., 14., 15., 16., 17., 18., 19., 20., 21., 22., 23.,  0.,  1.,\n",
       "        2.,  3.,  4.,  5.,  6.,  7.,  8.,  9., 10., 11., 12., 13., 14.,\n",
       "       15., 16., 17., 18., 19., 20., 21., 22., 23.,  0.,  1.,  2.,  3.,\n",
       "        4.,  5.,  6.,  7.,  8.,  9., 10., 11., 12., 13., 14., 15., 16.,\n",
       "       17., 18., 19., 20., 21., 22., 23.,  0.,  1.,  2.,  3.,  4.,  5.,\n",
       "        6.,  7.,  8.,  9., 10., 11., 12., 13., 14., 15., 16., 17., 18.,\n",
       "       19., 20., 21., 22., 23.,  0.,  1.,  2.,  3.,  4.,  5.,  6.,  7.,\n",
       "        8.,  9., 10., 11., 12., 13., 14., 15., 16., 17., 18., 19., 20.,\n",
       "       21., 22., 23.,  0.,  1.,  2.,  3.,  4.,  5.,  6.,  7.,  8.,  9.,\n",
       "       10., 11., 12., 13., 14., 15., 16., 17., 18., 19., 20., 21., 22.,\n",
       "       23.,  0.,  1.,  2.,  3.,  4.,  5.,  6.,  7.,  8.,  9., 10., 11.,\n",
       "       12., 13., 14., 15., 16., 17., 18., 19., 20., 21., 22., 23.,  0.,\n",
       "        1.,  2.,  3.,  4.,  5.,  6.,  7.,  8.,  9., 10., 11., 12., 13.,\n",
       "       14., 15., 16., 17., 18., 19., 20., 21., 22., 23.])"
      ]
     },
     "execution_count": 24,
     "metadata": {},
     "output_type": "execute_result"
    }
   ],
   "source": [
    "(test_X2_dt[0,:,-1])"
   ]
  },
  {
   "cell_type": "code",
   "execution_count": null,
   "metadata": {},
   "outputs": [],
   "source": []
  },
  {
   "cell_type": "code",
   "execution_count": 2,
   "metadata": {},
   "outputs": [
    {
     "data": {
      "text/plain": [
       "150"
      ]
     },
     "execution_count": 2,
     "metadata": {},
     "output_type": "execute_result"
    }
   ],
   "source": [
    "2*(1+2+4+8)*5"
   ]
  },
  {
   "cell_type": "code",
   "execution_count": 3,
   "metadata": {},
   "outputs": [],
   "source": [
    "sub_train_X, sub_train_Y = nd.array(trainX_dt, ctx=ctx), nd.array(trainY_dt, ctx=ctx)\n",
    "sub_valid_X, sub_valid_Y = nd.array(testX_dt, ctx=ctx), nd.array(testY_dt, ctx=ctx)\n",
    "conv_train_X, conv_valid_X = nd.array(train_X2_dt,ctx=ctx), nd.array(test_X2_dt,ctx=ctx)\n",
    "\n",
    "sub_train_nd = gluon.data.ArrayDataset(conv_train_X, sub_train_X, sub_train_Y)"
   ]
  },
  {
   "cell_type": "code",
   "execution_count": 17,
   "metadata": {},
   "outputs": [
    {
     "data": {
      "text/plain": [
       "\n",
       "[[1. 1. 1. ... 1. 1. 1.]\n",
       " [1. 1. 1. ... 1. 1. 1.]\n",
       " [1. 1. 1. ... 1. 1. 1.]\n",
       " ...\n",
       " [1. 1. 1. ... 1. 1. 1.]\n",
       " [1. 1. 1. ... 1. 1. 1.]\n",
       " [2. 2. 2. ... 2. 2. 2.]]\n",
       "<NDArray 8x192 @gpu(3)>"
      ]
     },
     "execution_count": 17,
     "metadata": {},
     "output_type": "execute_result"
    }
   ],
   "source": [
    "conv_valid_X[7:15,:,0]"
   ]
  },
  {
   "cell_type": "code",
   "execution_count": 5,
   "metadata": {},
   "outputs": [
    {
     "data": {
      "text/plain": [
       "963.0"
      ]
     },
     "execution_count": 5,
     "metadata": {},
     "output_type": "execute_result"
    }
   ],
   "source": [
    "6741/7"
   ]
  },
  {
   "cell_type": "code",
   "execution_count": 42,
   "metadata": {},
   "outputs": [],
   "source": [
    "a = [0,1]"
   ]
  },
  {
   "cell_type": "code",
   "execution_count": 45,
   "metadata": {},
   "outputs": [
    {
     "data": {
      "text/plain": [
       "array([[0, 1],\n",
       "       [2, 3],\n",
       "       [4, 5],\n",
       "       [6, 7],\n",
       "       [8, 9]])"
      ]
     },
     "execution_count": 45,
     "metadata": {},
     "output_type": "execute_result"
    }
   ],
   "source": [
    "np.array(range(10)).reshape(5,2)"
   ]
  },
  {
   "cell_type": "code",
   "execution_count": 46,
   "metadata": {},
   "outputs": [
    {
     "data": {
      "text/plain": [
       "array([[0, 1],\n",
       "       [4, 5]])"
      ]
     },
     "execution_count": 46,
     "metadata": {},
     "output_type": "execute_result"
    }
   ],
   "source": [
    "np.array(range(10)).reshape(5,2)[[0,2]]"
   ]
  },
  {
   "cell_type": "code",
   "execution_count": 4,
   "metadata": {},
   "outputs": [
    {
     "data": {
      "text/plain": [
       "410238"
      ]
     },
     "execution_count": 4,
     "metadata": {},
     "output_type": "execute_result"
    }
   ],
   "source": [
    "len(sub_train_nd)"
   ]
  },
  {
   "cell_type": "code",
   "execution_count": 5,
   "metadata": {
    "scrolled": true
   },
   "outputs": [
    {
     "name": "stdout",
     "output_type": "stream",
     "text": [
      "training_data_nb: 164096\n",
      "Epoch 0, valid loss: 1600.755127 valid ND: 0.218326, valid NRMSE 0.472904, valid ND new: 0.218319, valid NRMSE new 0.472894\n",
      "total_time: 148.445556640625\n",
      "training_data_nb: 164096\n",
      "Epoch 1, valid loss: 1281.162964 valid ND: 0.182274, valid NRMSE 0.425153, valid ND new: 0.182266, valid NRMSE new 0.425139\n",
      "total_time: 148.45902180671692\n",
      "training_data_nb: 164096\n",
      "Epoch 2, valid loss: 1598.224854 valid ND: 0.234166, valid NRMSE 0.465884, valid ND new: 0.234157, valid NRMSE new 0.465866\n",
      "total_time: 148.51316022872925\n",
      "training_data_nb: 164096\n",
      "Epoch 3, valid loss: 1332.728638 valid ND: 0.222123, valid NRMSE 0.429566, valid ND new: 0.222114, valid NRMSE new 0.429549\n",
      "total_time: 148.3949282169342\n",
      "training_data_nb: 164096\n",
      "Epoch 4, valid loss: 1186.377808 valid ND: 0.149560, valid NRMSE 0.411676, valid ND new: 0.149552, valid NRMSE new 0.411662\n",
      "total_time: 149.78761887550354\n",
      "training_data_nb: 164096\n",
      "Epoch 5, valid loss: 1158.924561 valid ND: 0.156764, valid NRMSE 0.406737, valid ND new: 0.156756, valid NRMSE new 0.406724\n",
      "total_time: 148.9584424495697\n",
      "training_data_nb: 164096\n",
      "Epoch 6, valid loss: 1140.171143 valid ND: 0.156856, valid NRMSE 0.403910, valid ND new: 0.156848, valid NRMSE new 0.403896\n",
      "total_time: 149.01781678199768\n",
      "training_data_nb: 164096\n",
      "Epoch 7, valid loss: 1112.739746 valid ND: 0.153960, valid NRMSE 0.398151, valid ND new: 0.153951, valid NRMSE new 0.398135\n",
      "total_time: 149.1326448917389\n",
      "training_data_nb: 164096\n",
      "Epoch 8, valid loss: 1172.870361 valid ND: 0.153401, valid NRMSE 0.409138, valid ND new: 0.153393, valid NRMSE new 0.409125\n",
      "total_time: 148.5080771446228\n",
      "training_data_nb: 164096\n",
      "Epoch 9, valid loss: 1078.742310 valid ND: 0.147602, valid NRMSE 0.393255, valid ND new: 0.147593, valid NRMSE new 0.393239\n",
      "total_time: 149.28345131874084\n",
      "training_data_nb: 164096\n",
      "Epoch 10, valid loss: 1075.270386 valid ND: 0.151358, valid NRMSE 0.391547, valid ND new: 0.151349, valid NRMSE new 0.391528\n",
      "total_time: 149.0218529701233\n",
      "training_data_nb: 164096\n",
      "Epoch 11, valid loss: 1183.219727 valid ND: 0.169662, valid NRMSE 0.407142, valid ND new: 0.169653, valid NRMSE new 0.407123\n",
      "total_time: 148.4966685771942\n",
      "training_data_nb: 164096\n",
      "Epoch 12, valid loss: 1057.090088 valid ND: 0.143466, valid NRMSE 0.389627, valid ND new: 0.143457, valid NRMSE new 0.389609\n",
      "total_time: 149.2572202682495\n",
      "training_data_nb: 164096\n",
      "Epoch 13, valid loss: 1107.020142 valid ND: 0.153367, valid NRMSE 0.396498, valid ND new: 0.153359, valid NRMSE new 0.396484\n",
      "total_time: 148.90522265434265\n",
      "training_data_nb: 164096\n",
      "Epoch 14, valid loss: 1019.205505 valid ND: 0.135110, valid NRMSE 0.382504, valid ND new: 0.135101, valid NRMSE new 0.382487\n",
      "total_time: 149.02180004119873\n",
      "training_data_nb: 164096\n",
      "Epoch 15, valid loss: 1065.829712 valid ND: 0.148770, valid NRMSE 0.390316, valid ND new: 0.148761, valid NRMSE new 0.390300\n",
      "total_time: 148.9844834804535\n",
      "training_data_nb: 164096\n",
      "Epoch 16, valid loss: 1035.335327 valid ND: 0.149324, valid NRMSE 0.385605, valid ND new: 0.149316, valid NRMSE new 0.385589\n",
      "total_time: 149.08306765556335\n",
      "training_data_nb: 164096\n",
      "Epoch 17, valid loss: 1066.772339 valid ND: 0.146208, valid NRMSE 0.391061, valid ND new: 0.146200, valid NRMSE new 0.391045\n",
      "total_time: 148.8828001022339\n",
      "training_data_nb: 164096\n",
      "Epoch 18, valid loss: 1051.975220 valid ND: 0.146239, valid NRMSE 0.388468, valid ND new: 0.146231, valid NRMSE new 0.388453\n",
      "total_time: 149.37792038917542\n",
      "training_data_nb: 164096\n",
      "Epoch 19, valid loss: 1026.541870 valid ND: 0.147438, valid NRMSE 0.383485, valid ND new: 0.147429, valid NRMSE new 0.383468\n",
      "total_time: 149.1682276725769\n",
      "training_data_nb: 164096\n",
      "Epoch 20, valid loss: 1071.226685 valid ND: 0.158924, valid NRMSE 0.390070, valid ND new: 0.158915, valid NRMSE new 0.390053\n",
      "total_time: 148.6452853679657\n",
      "training_data_nb: 164096\n",
      "Epoch 21, valid loss: 1037.141724 valid ND: 0.153718, valid NRMSE 0.385233, valid ND new: 0.153709, valid NRMSE new 0.385215\n",
      "total_time: 149.32234525680542\n",
      "training_data_nb: 164096\n",
      "Epoch 22, valid loss: 1031.449219 valid ND: 0.137847, valid NRMSE 0.384496, valid ND new: 0.137839, valid NRMSE new 0.384480\n",
      "total_time: 148.45362663269043\n",
      "training_data_nb: 164096\n",
      "Epoch 23, valid loss: 1026.960571 valid ND: 0.138963, valid NRMSE 0.384218, valid ND new: 0.138955, valid NRMSE new 0.384203\n",
      "total_time: 148.40388226509094\n",
      "training_data_nb: 164096\n",
      "Epoch 24, valid loss: 1014.353699 valid ND: 0.134938, valid NRMSE 0.381067, valid ND new: 0.134929, valid NRMSE new 0.381050\n",
      "total_time: 149.81027102470398\n",
      "training_data_nb: 164096\n",
      "Epoch 25, valid loss: 1066.856689 valid ND: 0.147788, valid NRMSE 0.391167, valid ND new: 0.147779, valid NRMSE new 0.391152\n",
      "total_time: 149.0541853904724\n",
      "training_data_nb: 164096\n",
      "Epoch 26, valid loss: 1047.710327 valid ND: 0.138191, valid NRMSE 0.388028, valid ND new: 0.138183, valid NRMSE new 0.388011\n",
      "total_time: 148.95259428024292\n",
      "training_data_nb: 164096\n",
      "Epoch 27, valid loss: 1044.956909 valid ND: 0.135763, valid NRMSE 0.387530, valid ND new: 0.135755, valid NRMSE new 0.387514\n",
      "total_time: 148.74879431724548\n",
      "training_data_nb: 164096\n",
      "Epoch 28, valid loss: 1048.152588 valid ND: 0.147974, valid NRMSE 0.387270, valid ND new: 0.147966, valid NRMSE new 0.387254\n",
      "total_time: 149.7830057144165\n",
      "training_data_nb: 164096\n",
      "Epoch 29, valid loss: 1053.782227 valid ND: 0.157671, valid NRMSE 0.386807, valid ND new: 0.157663, valid NRMSE new 0.386792\n",
      "total_time: 148.31871938705444\n",
      "training_data_nb: 164096\n",
      "Epoch 30, valid loss: 1031.516235 valid ND: 0.142593, valid NRMSE 0.384368, valid ND new: 0.142585, valid NRMSE new 0.384351\n",
      "total_time: 149.26150059700012\n",
      "training_data_nb: 164096\n",
      "Epoch 31, valid loss: 1037.084595 valid ND: 0.148156, valid NRMSE 0.385982, valid ND new: 0.148147, valid NRMSE new 0.385967\n",
      "total_time: 148.98088264465332\n",
      "training_data_nb: 164096\n",
      "Epoch 32, valid loss: 1017.675110 valid ND: 0.130931, valid NRMSE 0.382889, valid ND new: 0.130923, valid NRMSE new 0.382873\n",
      "total_time: 148.72069334983826\n",
      "training_data_nb: 164096\n",
      "Epoch 33, valid loss: 997.252930 valid ND: 0.132075, valid NRMSE 0.378938, valid ND new: 0.132066, valid NRMSE new 0.378921\n",
      "total_time: 148.75492405891418\n",
      "training_data_nb: 164096\n",
      "Epoch 34, valid loss: 1032.192017 valid ND: 0.150276, valid NRMSE 0.383011, valid ND new: 0.150266, valid NRMSE new 0.382991\n",
      "total_time: 149.27479791641235\n",
      "training_data_nb: 164096\n",
      "Epoch 35, valid loss: 991.808838 valid ND: 0.130708, valid NRMSE 0.378003, valid ND new: 0.130699, valid NRMSE new 0.377986\n",
      "total_time: 148.61776208877563\n",
      "training_data_nb: 164096\n",
      "Epoch 36, valid loss: 1075.060913 valid ND: 0.162545, valid NRMSE 0.389995, valid ND new: 0.162536, valid NRMSE new 0.389976\n",
      "total_time: 148.69249987602234\n",
      "training_data_nb: 164096\n",
      "Epoch 37, valid loss: 1056.484741 valid ND: 0.147307, valid NRMSE 0.387832, valid ND new: 0.147298, valid NRMSE new 0.387814\n",
      "total_time: 149.3116316795349\n",
      "training_data_nb: 164096\n",
      "Epoch 38, valid loss: 1012.037720 valid ND: 0.141491, valid NRMSE 0.381161, valid ND new: 0.141482, valid NRMSE new 0.381142\n",
      "total_time: 148.88520407676697\n",
      "training_data_nb: 164096\n",
      "Epoch 39, valid loss: 993.057434 valid ND: 0.132216, valid NRMSE 0.378088, valid ND new: 0.132207, valid NRMSE new 0.378070\n",
      "total_time: 148.7944574356079\n",
      "training_data_nb: 164096\n",
      "Epoch 40, valid loss: 1019.183350 valid ND: 0.142462, valid NRMSE 0.381410, valid ND new: 0.142453, valid NRMSE new 0.381392\n",
      "total_time: 149.0804419517517\n",
      "training_data_nb: 164096\n",
      "Epoch 41, valid loss: 1037.039429 valid ND: 0.146215, valid NRMSE 0.384663, valid ND new: 0.146207, valid NRMSE new 0.384646\n",
      "total_time: 149.39202618598938\n",
      "training_data_nb: 164096\n",
      "Epoch 42, valid loss: 1108.423218 valid ND: 0.144289, valid NRMSE 0.398743, valid ND new: 0.144281, valid NRMSE new 0.398730\n",
      "total_time: 149.652419090271\n",
      "training_data_nb: 164096\n",
      "Epoch 43, valid loss: 1038.884399 valid ND: 0.150824, valid NRMSE 0.384577, valid ND new: 0.150815, valid NRMSE new 0.384559\n",
      "total_time: 149.16370105743408\n",
      "training_data_nb: 164096\n",
      "Epoch 44, valid loss: 1036.936768 valid ND: 0.152842, valid NRMSE 0.384642, valid ND new: 0.152833, valid NRMSE new 0.384625\n",
      "total_time: 149.95775842666626\n",
      "training_data_nb: 164096\n",
      "Epoch 45, valid loss: 1026.371704 valid ND: 0.142917, valid NRMSE 0.384316, valid ND new: 0.142909, valid NRMSE new 0.384301\n",
      "total_time: 149.28804230690002\n"
     ]
    },
    {
     "name": "stdout",
     "output_type": "stream",
     "text": [
      "training_data_nb: 164096\n",
      "Epoch 46, valid loss: 1016.497314 valid ND: 0.144668, valid NRMSE 0.381356, valid ND new: 0.144660, valid NRMSE new 0.381339\n",
      "total_time: 148.89758729934692\n",
      "training_data_nb: 164096\n",
      "Epoch 47, valid loss: 1035.923096 valid ND: 0.142749, valid NRMSE 0.385704, valid ND new: 0.142741, valid NRMSE new 0.385690\n",
      "total_time: 148.69935083389282\n",
      "training_data_nb: 164096\n",
      "Epoch 48, valid loss: 1085.542480 valid ND: 0.161628, valid NRMSE 0.392026, valid ND new: 0.161619, valid NRMSE new 0.392007\n",
      "total_time: 148.8580780029297\n",
      "training_data_nb: 164096\n",
      "Epoch 49, valid loss: 1013.580139 valid ND: 0.141170, valid NRMSE 0.380637, valid ND new: 0.141161, valid NRMSE new 0.380620\n",
      "total_time: 149.5129759311676\n",
      "training_data_nb: 164096\n",
      "Epoch 50, valid loss: 990.601746 valid ND: 0.131724, valid NRMSE 0.377585, valid ND new: 0.131715, valid NRMSE new 0.377568\n",
      "total_time: 147.74878311157227\n",
      "training_data_nb: 164096\n",
      "Epoch 51, valid loss: 1068.616943 valid ND: 0.161556, valid NRMSE 0.389459, valid ND new: 0.161547, valid NRMSE new 0.389440\n",
      "total_time: 148.1849091053009\n",
      "training_data_nb: 164096\n",
      "Epoch 52, valid loss: 985.585876 valid ND: 0.129136, valid NRMSE 0.376777, valid ND new: 0.129127, valid NRMSE new 0.376760\n",
      "total_time: 148.6800389289856\n",
      "training_data_nb: 164096\n",
      "Epoch 53, valid loss: 1004.676514 valid ND: 0.143728, valid NRMSE 0.379281, valid ND new: 0.143720, valid NRMSE new 0.379263\n",
      "total_time: 148.50313711166382\n",
      "training_data_nb: 164096\n",
      "Epoch 54, valid loss: 1047.690918 valid ND: 0.138458, valid NRMSE 0.386410, valid ND new: 0.138449, valid NRMSE new 0.386393\n",
      "total_time: 148.305358171463\n",
      "training_data_nb: 164096\n",
      "Epoch 55, valid loss: 1013.344666 valid ND: 0.136232, valid NRMSE 0.380404, valid ND new: 0.136223, valid NRMSE new 0.380386\n",
      "total_time: 148.92553520202637\n",
      "training_data_nb: 164096\n",
      "Epoch 56, valid loss: 997.321350 valid ND: 0.143229, valid NRMSE 0.377985, valid ND new: 0.143221, valid NRMSE new 0.377970\n",
      "total_time: 147.8189697265625\n",
      "training_data_nb: 164096\n",
      "Epoch 57, valid loss: 1033.199219 valid ND: 0.133560, valid NRMSE 0.385988, valid ND new: 0.133551, valid NRMSE new 0.385971\n",
      "total_time: 148.5597870349884\n",
      "training_data_nb: 164096\n",
      "Epoch 58, valid loss: 987.030334 valid ND: 0.130918, valid NRMSE 0.376720, valid ND new: 0.130910, valid NRMSE new 0.376704\n",
      "total_time: 148.44046068191528\n",
      "training_data_nb: 164096\n",
      "Epoch 59, valid loss: 1017.699951 valid ND: 0.151643, valid NRMSE 0.380475, valid ND new: 0.151635, valid NRMSE new 0.380457\n",
      "total_time: 148.34653425216675\n",
      "training_data_nb: 164096\n",
      "Epoch 60, valid loss: 1069.583130 valid ND: 0.160730, valid NRMSE 0.389654, valid ND new: 0.160721, valid NRMSE new 0.389638\n",
      "total_time: 148.83291912078857\n",
      "training_data_nb: 164096\n",
      "Epoch 61, valid loss: 998.043274 valid ND: 0.137723, valid NRMSE 0.377302, valid ND new: 0.137715, valid NRMSE new 0.377285\n",
      "total_time: 148.3086061477661\n",
      "training_data_nb: 164096\n",
      "Epoch 62, valid loss: 998.503235 valid ND: 0.132972, valid NRMSE 0.379300, valid ND new: 0.132964, valid NRMSE new 0.379285\n",
      "total_time: 148.0656180381775\n",
      "training_data_nb: 164096\n",
      "Epoch 63, valid loss: 993.498291 valid ND: 0.141051, valid NRMSE 0.377665, valid ND new: 0.141042, valid NRMSE new 0.377646\n",
      "total_time: 147.65703129768372\n",
      "training_data_nb: 164096\n",
      "Epoch 64, valid loss: 998.401428 valid ND: 0.137523, valid NRMSE 0.378682, valid ND new: 0.137515, valid NRMSE new 0.378665\n",
      "total_time: 147.86690497398376\n",
      "training_data_nb: 164096\n",
      "Epoch 65, valid loss: 992.045776 valid ND: 0.136094, valid NRMSE 0.377286, valid ND new: 0.136085, valid NRMSE new 0.377267\n",
      "total_time: 149.07770323753357\n",
      "training_data_nb: 164096\n",
      "Epoch 66, valid loss: 985.106445 valid ND: 0.138423, valid NRMSE 0.374897, valid ND new: 0.138415, valid NRMSE new 0.374880\n",
      "total_time: 149.05380773544312\n",
      "training_data_nb: 164096\n",
      "Epoch 67, valid loss: 995.009399 valid ND: 0.137373, valid NRMSE 0.378608, valid ND new: 0.137365, valid NRMSE new 0.378592\n",
      "total_time: 148.89870691299438\n",
      "training_data_nb: 164096\n",
      "Epoch 68, valid loss: 1018.179382 valid ND: 0.139179, valid NRMSE 0.381654, valid ND new: 0.139170, valid NRMSE new 0.381636\n",
      "total_time: 147.90820598602295\n",
      "training_data_nb: 164096\n",
      "Epoch 69, valid loss: 1019.171509 valid ND: 0.135207, valid NRMSE 0.382813, valid ND new: 0.135198, valid NRMSE new 0.382795\n",
      "total_time: 148.28949975967407\n",
      "training_data_nb: 164096\n",
      "Epoch 70, valid loss: 977.744873 valid ND: 0.134245, valid NRMSE 0.374697, valid ND new: 0.134236, valid NRMSE new 0.374679\n",
      "total_time: 149.03915190696716\n",
      "training_data_nb: 164096\n",
      "Epoch 71, valid loss: 1014.797058 valid ND: 0.131792, valid NRMSE 0.382661, valid ND new: 0.131784, valid NRMSE new 0.382644\n",
      "total_time: 147.45023727416992\n",
      "training_data_nb: 164096\n",
      "Epoch 72, valid loss: 1007.770081 valid ND: 0.131944, valid NRMSE 0.381122, valid ND new: 0.131936, valid NRMSE new 0.381106\n",
      "total_time: 148.35361099243164\n",
      "training_data_nb: 164096\n",
      "Epoch 73, valid loss: 1022.697021 valid ND: 0.140535, valid NRMSE 0.383024, valid ND new: 0.140527, valid NRMSE new 0.383010\n",
      "total_time: 148.00478863716125\n",
      "training_data_nb: 164096\n",
      "Epoch 74, valid loss: 1032.860229 valid ND: 0.136993, valid NRMSE 0.385594, valid ND new: 0.136985, valid NRMSE new 0.385578\n",
      "total_time: 148.03334999084473\n",
      "training_data_nb: 164096\n",
      "Epoch 75, valid loss: 1012.996277 valid ND: 0.133619, valid NRMSE 0.382222, valid ND new: 0.133610, valid NRMSE new 0.382207\n",
      "total_time: 149.0685658454895\n",
      "training_data_nb: 164096\n",
      "Epoch 76, valid loss: 993.467651 valid ND: 0.130970, valid NRMSE 0.378024, valid ND new: 0.130961, valid NRMSE new 0.378005\n",
      "total_time: 148.13219380378723\n",
      "training_data_nb: 164096\n",
      "Epoch 77, valid loss: 1029.596558 valid ND: 0.139075, valid NRMSE 0.383452, valid ND new: 0.139066, valid NRMSE new 0.383434\n",
      "total_time: 147.9651575088501\n",
      "training_data_nb: 164096\n",
      "Epoch 78, valid loss: 986.933228 valid ND: 0.137220, valid NRMSE 0.376176, valid ND new: 0.137211, valid NRMSE new 0.376157\n",
      "total_time: 148.4082670211792\n",
      "training_data_nb: 164096\n",
      "Epoch 79, valid loss: 980.653259 valid ND: 0.130701, valid NRMSE 0.375849, valid ND new: 0.130692, valid NRMSE new 0.375832\n",
      "total_time: 147.8211898803711\n",
      "training_data_nb: 164096\n",
      "Epoch 80, valid loss: 1109.303101 valid ND: 0.169870, valid NRMSE 0.395303, valid ND new: 0.169861, valid NRMSE new 0.395283\n",
      "total_time: 148.14062547683716\n",
      "training_data_nb: 164096\n",
      "Epoch 81, valid loss: 1069.400513 valid ND: 0.142420, valid NRMSE 0.389167, valid ND new: 0.142411, valid NRMSE new 0.389149\n",
      "total_time: 149.10815715789795\n",
      "training_data_nb: 164096\n",
      "Epoch 82, valid loss: 1004.120422 valid ND: 0.143166, valid NRMSE 0.378697, valid ND new: 0.143158, valid NRMSE new 0.378679\n",
      "total_time: 148.1264410018921\n",
      "training_data_nb: 164096\n",
      "Epoch 83, valid loss: 1011.666870 valid ND: 0.142624, valid NRMSE 0.379484, valid ND new: 0.142615, valid NRMSE new 0.379463\n",
      "total_time: 148.18425869941711\n",
      "training_data_nb: 164096\n",
      "Epoch 84, valid loss: 982.015259 valid ND: 0.131885, valid NRMSE 0.375374, valid ND new: 0.131876, valid NRMSE new 0.375356\n",
      "total_time: 148.13334703445435\n",
      "training_data_nb: 164096\n",
      "Epoch 85, valid loss: 1026.152100 valid ND: 0.141388, valid NRMSE 0.383974, valid ND new: 0.141380, valid NRMSE new 0.383958\n",
      "total_time: 148.29981184005737\n"
     ]
    },
    {
     "ename": "KeyboardInterrupt",
     "evalue": "",
     "output_type": "error",
     "traceback": [
      "\u001b[0;31m---------------------------------------------------------------------------\u001b[0m",
      "\u001b[0;31mKeyboardInterrupt\u001b[0m                         Traceback (most recent call last)",
      "\u001b[0;32m<ipython-input-5-2082bd299a74>\u001b[0m in \u001b[0;36m<module>\u001b[0;34m()\u001b[0m\n\u001b[1;32m     22\u001b[0m                 'optimizer':optimizer, 'optimizer_params':optimizer_params}\n\u001b[1;32m     23\u001b[0m \u001b[0mtrain_mark\u001b[0m\u001b[0;34m=\u001b[0m\u001b[0;34m'testing'\u001b[0m\u001b[0;34m\u001b[0m\u001b[0m\n\u001b[0;32m---> 24\u001b[0;31m \u001b[0mnn_trainer\u001b[0m\u001b[0;34m(\u001b[0m\u001b[0mtrain_mark\u001b[0m\u001b[0;34m,\u001b[0m \u001b[0mmodel1\u001b[0m\u001b[0;34m,\u001b[0m \u001b[0msub_train_nd\u001b[0m\u001b[0;34m,\u001b[0m \u001b[0mconv_valid_X\u001b[0m\u001b[0;34m,\u001b[0m\u001b[0msub_valid_X\u001b[0m\u001b[0;34m,\u001b[0m \u001b[0msub_valid_Y\u001b[0m\u001b[0;34m,\u001b[0m \u001b[0mtrainer_params_list\u001b[0m\u001b[0;34m=\u001b[0m\u001b[0mtrainer_params_list\u001b[0m\u001b[0;34m,\u001b[0m \u001b[0mctx\u001b[0m\u001b[0;34m=\u001b[0m\u001b[0mctx\u001b[0m\u001b[0;34m)\u001b[0m\u001b[0;34m\u001b[0m\u001b[0m\n\u001b[0m",
      "\u001b[0;32m/work/TCN_traffic/model/wavenet/multiple_output/trainer_small.py\u001b[0m in \u001b[0;36mnn_trainer\u001b[0;34m(train_mark, model, train_data, test_conv_X, test_data_X, test_data_Y, trainer_params_list, ctx)\u001b[0m\n\u001b[1;32m     83\u001b[0m             \u001b[0mloss\u001b[0m\u001b[0;34m.\u001b[0m\u001b[0mbackward\u001b[0m\u001b[0;34m(\u001b[0m\u001b[0;34m)\u001b[0m\u001b[0;34m\u001b[0m\u001b[0m\n\u001b[1;32m     84\u001b[0m             \u001b[0mtrainer\u001b[0m\u001b[0;34m.\u001b[0m\u001b[0mstep\u001b[0m\u001b[0;34m(\u001b[0m\u001b[0mbatch_size\u001b[0m\u001b[0;34m,\u001b[0m\u001b[0mignore_stale_grad\u001b[0m\u001b[0;34m=\u001b[0m\u001b[0;32mTrue\u001b[0m\u001b[0;34m)\u001b[0m\u001b[0;34m\u001b[0m\u001b[0m\n\u001b[0;32m---> 85\u001b[0;31m             \u001b[0mtrain_loss\u001b[0m \u001b[0;34m+=\u001b[0m \u001b[0mnd\u001b[0m\u001b[0;34m.\u001b[0m\u001b[0msum\u001b[0m\u001b[0;34m(\u001b[0m\u001b[0mloss\u001b[0m\u001b[0;34m)\u001b[0m\u001b[0;34m.\u001b[0m\u001b[0masscalar\u001b[0m\u001b[0;34m(\u001b[0m\u001b[0;34m)\u001b[0m\u001b[0;34m\u001b[0m\u001b[0m\n\u001b[0m\u001b[1;32m     86\u001b[0m             \u001b[0mk\u001b[0m \u001b[0;34m+=\u001b[0m \u001b[0;36m1\u001b[0m\u001b[0;34m\u001b[0m\u001b[0m\n\u001b[1;32m     87\u001b[0m             \u001b[0;32mif\u001b[0m \u001b[0mk\u001b[0m\u001b[0;34m*\u001b[0m\u001b[0mbatch_size\u001b[0m\u001b[0;34m>\u001b[0m\u001b[0mn_train\u001b[0m\u001b[0;34m*\u001b[0m\u001b[0;36m0.4\u001b[0m\u001b[0;34m:\u001b[0m\u001b[0;34m\u001b[0m\u001b[0m\n",
      "\u001b[0;32m/usr/local/anaconda3/lib/python3.6/site-packages/mxnet/ndarray/ndarray.py\u001b[0m in \u001b[0;36masscalar\u001b[0;34m(self)\u001b[0m\n\u001b[1;32m   1892\u001b[0m         \u001b[0;32mif\u001b[0m \u001b[0mself\u001b[0m\u001b[0;34m.\u001b[0m\u001b[0mshape\u001b[0m \u001b[0;34m!=\u001b[0m \u001b[0;34m(\u001b[0m\u001b[0;36m1\u001b[0m\u001b[0;34m,\u001b[0m\u001b[0;34m)\u001b[0m\u001b[0;34m:\u001b[0m\u001b[0;34m\u001b[0m\u001b[0m\n\u001b[1;32m   1893\u001b[0m             \u001b[0;32mraise\u001b[0m \u001b[0mValueError\u001b[0m\u001b[0;34m(\u001b[0m\u001b[0;34m\"The current array is not a scalar\"\u001b[0m\u001b[0;34m)\u001b[0m\u001b[0;34m\u001b[0m\u001b[0m\n\u001b[0;32m-> 1894\u001b[0;31m         \u001b[0;32mreturn\u001b[0m \u001b[0mself\u001b[0m\u001b[0;34m.\u001b[0m\u001b[0masnumpy\u001b[0m\u001b[0;34m(\u001b[0m\u001b[0;34m)\u001b[0m\u001b[0;34m[\u001b[0m\u001b[0;36m0\u001b[0m\u001b[0;34m]\u001b[0m\u001b[0;34m\u001b[0m\u001b[0m\n\u001b[0m\u001b[1;32m   1895\u001b[0m \u001b[0;34m\u001b[0m\u001b[0m\n\u001b[1;32m   1896\u001b[0m     \u001b[0;32mdef\u001b[0m \u001b[0mastype\u001b[0m\u001b[0;34m(\u001b[0m\u001b[0mself\u001b[0m\u001b[0;34m,\u001b[0m \u001b[0mdtype\u001b[0m\u001b[0;34m,\u001b[0m \u001b[0mcopy\u001b[0m\u001b[0;34m=\u001b[0m\u001b[0;32mTrue\u001b[0m\u001b[0;34m)\u001b[0m\u001b[0;34m:\u001b[0m\u001b[0;34m\u001b[0m\u001b[0m\n",
      "\u001b[0;32m/usr/local/anaconda3/lib/python3.6/site-packages/mxnet/ndarray/ndarray.py\u001b[0m in \u001b[0;36masnumpy\u001b[0;34m(self)\u001b[0m\n\u001b[1;32m   1874\u001b[0m             \u001b[0mself\u001b[0m\u001b[0;34m.\u001b[0m\u001b[0mhandle\u001b[0m\u001b[0;34m,\u001b[0m\u001b[0;34m\u001b[0m\u001b[0m\n\u001b[1;32m   1875\u001b[0m             \u001b[0mdata\u001b[0m\u001b[0;34m.\u001b[0m\u001b[0mctypes\u001b[0m\u001b[0;34m.\u001b[0m\u001b[0mdata_as\u001b[0m\u001b[0;34m(\u001b[0m\u001b[0mctypes\u001b[0m\u001b[0;34m.\u001b[0m\u001b[0mc_void_p\u001b[0m\u001b[0;34m)\u001b[0m\u001b[0;34m,\u001b[0m\u001b[0;34m\u001b[0m\u001b[0m\n\u001b[0;32m-> 1876\u001b[0;31m             ctypes.c_size_t(data.size)))\n\u001b[0m\u001b[1;32m   1877\u001b[0m         \u001b[0;32mreturn\u001b[0m \u001b[0mdata\u001b[0m\u001b[0;34m\u001b[0m\u001b[0m\n\u001b[1;32m   1878\u001b[0m \u001b[0;34m\u001b[0m\u001b[0m\n",
      "\u001b[0;31mKeyboardInterrupt\u001b[0m: "
     ]
    }
   ],
   "source": [
    "\"\"\"\n",
    "conv_x = conv_train_X[:128,:]\n",
    "x = sub_train_X[:128,]\n",
    "\"\"\"\n",
    "model1 = TCN()\n",
    "#choose parameters\n",
    "batch_size= 128\n",
    "n_epochs=500\n",
    "\"\"\"\n",
    "The model training\n",
    "\"\"\"\n",
    "### The model parameters\n",
    "abs_loss = gluon.loss.L1Loss()\n",
    "L2_loss = gluon.loss.L2Loss()\n",
    "huber_loss = gluon.loss.HuberLoss()\n",
    "initializer = mx.initializer.MSRAPrelu()\n",
    "optimizer = 'adam';\n",
    "optimizer_params = {'learning_rate': 0.01}\n",
    "\n",
    "trainer_params_list = {'batch_size': batch_size,'epoch_num':n_epochs,\n",
    "                'loss_func': huber_loss, 'initializer': initializer,\n",
    "                'optimizer':optimizer, 'optimizer_params':optimizer_params}\n",
    "train_mark='testing'\n",
    "nn_trainer(train_mark, model1, sub_train_nd, conv_valid_X,sub_valid_X, sub_valid_Y, trainer_params_list=trainer_params_list, ctx=ctx)"
   ]
  },
  {
   "cell_type": "code",
   "execution_count": null,
   "metadata": {},
   "outputs": [],
   "source": [
    "Epoch 51, valid loss: 932.307922 valid ND: 0.128468, valid NRMSE 0.365086, "
   ]
  },
  {
   "cell_type": "code",
   "execution_count": null,
   "metadata": {},
   "outputs": [],
   "source": [
    "0.125 0.365"
   ]
  },
  {
   "cell_type": "code",
   "execution_count": null,
   "metadata": {},
   "outputs": [],
   "source": [
    "Epoch 87, valid loss: 933.109070 valid ND: 0.130246, valid NRMSE 0.364919, "
   ]
  },
  {
   "cell_type": "code",
   "execution_count": null,
   "metadata": {},
   "outputs": [],
   "source": []
  }
 ],
 "metadata": {
  "kernelspec": {
   "display_name": "Python 3",
   "language": "python",
   "name": "python3"
  },
  "language_info": {
   "codemirror_mode": {
    "name": "ipython",
    "version": 3
   },
   "file_extension": ".py",
   "mimetype": "text/x-python",
   "name": "python",
   "nbconvert_exporter": "python",
   "pygments_lexer": "ipython3",
   "version": "3.7.3"
  }
 },
 "nbformat": 4,
 "nbformat_minor": 2
}
