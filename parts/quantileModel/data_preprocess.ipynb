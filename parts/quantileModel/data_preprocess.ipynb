{
 "cells": [
  {
   "cell_type": "code",
   "execution_count": 1,
   "metadata": {},
   "outputs": [],
   "source": [
    "import os, math\n",
    "import _pickle as pickle\n",
    "from datetime import datetime, timedelta\n",
    "\n",
    "import numpy as np\n",
    "import pandas as pd"
   ]
  },
  {
   "cell_type": "code",
   "execution_count": 2,
   "metadata": {},
   "outputs": [],
   "source": [
    "dt = np.loadtxt(\"parts.csv\", delimiter=\",\")"
   ]
  },
  {
   "cell_type": "code",
   "execution_count": 3,
   "metadata": {},
   "outputs": [],
   "source": [
    "dt.shape\n",
    "## The date range\n",
    "time_list = np.array(range(51))\n",
    "month_list = time_list % 12\n",
    "year_list = (time_list /12).astype(int)"
   ]
  },
  {
   "cell_type": "code",
   "execution_count": 4,
   "metadata": {},
   "outputs": [],
   "source": [
    "parts_index = list(range(1046))\n",
    "sliding_window_dis = 4;# can change to 24\n",
    "sample_len = 24; #input 12,output 12\n",
    "input_len = 12;\n",
    "output_len = 12;\n",
    "total_n = 7\n",
    "test_n = 1\n",
    "train_n = 4"
   ]
  },
  {
   "cell_type": "code",
   "execution_count": 5,
   "metadata": {},
   "outputs": [],
   "source": [
    "trainX_list = []; trainX2_list = []; trainY_list = [];trainY2_list = []\n",
    "testX_list = [];  testX2_list = [];  testY_list = [];testY2_list = []\n",
    "#for part in parts_index:\n",
    "for part in parts_index:\n",
    "    sub_series = dt[part,:]\n",
    "\n",
    "    trainX = np.zeros(shape=(train_n, input_len))       ## The input series\n",
    "    trainY = np.zeros(shape=(train_n, output_len))      ## The output series  \n",
    "\n",
    "    testX  = np.zeros(shape=(test_n, input_len))        ## The input series of testing dataset\n",
    "    testY = np.zeros(shape=(test_n, output_len))        ## The output series of testing dataset\n",
    "\n",
    "    covariate_num = 3   # other features covariate_num: parts_id, n_year, n_month\n",
    "    trainX2 = np.zeros(shape=(train_n, input_len, covariate_num))\n",
    "    trainY2 = np.zeros(shape=(train_n, output_len, covariate_num))\n",
    "    testX2 = np.zeros(shape=(test_n, input_len, covariate_num))\n",
    "    testY2 = np.zeros(shape=(test_n, output_len, covariate_num))\n",
    "\n",
    "    ts_len = sub_series.shape[0]\n",
    "    start_index = ts_len-sample_len\n",
    "\n",
    "    for i in range(total_n):\n",
    "        ### The ts sequences\n",
    "        series_x,series_y = sub_series[start_index:start_index+input_len],sub_series[start_index+input_len:start_index+sample_len]\n",
    "        ### The covariate\n",
    "        parts_X = np.repeat(part, input_len)\n",
    "        parts_Y = np.repeat(part, output_len)\n",
    "        ### The time-index covariates\n",
    "        year_index_x, year_index_y = year_list[start_index:start_index+input_len], year_list[start_index+input_len:start_index+sample_len]\n",
    "        month_index_x, month_index_y = month_list[start_index:start_index+input_len], month_list[start_index+input_len:start_index+sample_len]\n",
    "        covariate_X = np.c_[parts_X, year_index_x, month_index_x]\n",
    "        covariate_Y = np.c_[parts_Y, year_index_y, month_index_y]\n",
    "    \n",
    "        if(i==0):\n",
    "            testX[i] = series_x\n",
    "            testY[i] = series_y\n",
    "            testX2[i,:,:] = covariate_X\n",
    "            testY2[i,:,:] = covariate_Y\n",
    "        if(i>2):\n",
    "            trainX[i-3] = series_x\n",
    "            trainY[i-3] = series_y\n",
    "            trainX2[i-3] = covariate_X\n",
    "            trainY2[i-3] = covariate_Y\n",
    "        # update the start_index\n",
    "        start_index = start_index - sliding_window_dis\n",
    "        \n",
    "    testX_list.append(testX)\n",
    "    testX2_list.append(testX2)\n",
    "    testY_list.append(testY)\n",
    "    testY2_list.append(testY2)\n",
    "    \n",
    "    trainX_list.append(trainX)\n",
    "    trainX2_list.append(trainX2)\n",
    "    trainY_list.append(trainY)\n",
    "    trainY2_list.append(trainY2)"
   ]
  },
  {
   "cell_type": "code",
   "execution_count": 6,
   "metadata": {},
   "outputs": [],
   "source": [
    "testX_dt = np.vstack(testX_list)\n",
    "testY_dt = np.vstack(testY_list)\n",
    "testX2_dt = np.vstack(testX2_list)\n",
    "testY2_dt = np.vstack(testY2_list)\n",
    "\n",
    "trainX_dt = np.vstack(trainX_list)\n",
    "trainY_dt = np.vstack(trainY_list)\n",
    "trainX2_dt = np.vstack(trainX2_list)\n",
    "trainY2_dt = np.vstack(trainY2_list)"
   ]
  },
  {
   "cell_type": "code",
   "execution_count": 7,
   "metadata": {},
   "outputs": [],
   "source": [
    "### Save the data\n",
    "with open('feature_prepare.pkl', 'wb') as f:\n",
    "    pickle.dump([trainX_dt,trainX2_dt, trainY_dt,trainY2_dt, testX_dt, testX2_dt,testY_dt,testY2_dt], f, -1)"
   ]
  }
 ],
 "metadata": {
  "kernelspec": {
   "display_name": "Python 3",
   "language": "python",
   "name": "python3"
  },
  "language_info": {
   "codemirror_mode": {
    "name": "ipython",
    "version": 3
   },
   "file_extension": ".py",
   "mimetype": "text/x-python",
   "name": "python",
   "nbconvert_exporter": "python",
   "pygments_lexer": "ipython3",
   "version": "3.6.4"
  }
 },
 "nbformat": 4,
 "nbformat_minor": 2
}
