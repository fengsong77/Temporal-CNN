{
 "cells": [
  {
   "cell_type": "code",
   "execution_count": 1,
   "metadata": {},
   "outputs": [],
   "source": [
    "import os, sys, math, random, time\n",
    "from datetime import datetime\n",
    "import _pickle as pickle\n",
    "\n",
    "import numpy as np\n",
    "import pandas as pd\n",
    "\n",
    "import mxnet as mx\n",
    "from mxnet import autograd, gluon, nd, gpu\n",
    "from mxnet.gluon import nn\n",
    "\n",
    "from nnModels import TCN\n",
    "from nnTrainer import nn_trainer"
   ]
  },
  {
   "cell_type": "code",
   "execution_count": 2,
   "metadata": {},
   "outputs": [],
   "source": [
    "### The input dataset\n",
    "ctx = mx.gpu(3)\n",
    "with open('feature_prepare.pkl', 'rb') as f:\n",
    "    [trainX_dt,trainX2_dt, trainY_dt,trainY2_dt, testX_dt, testX2_dt,testY_dt,testY2_dt] = pickle.load(f)"
   ]
  },
  {
   "cell_type": "code",
   "execution_count": 3,
   "metadata": {},
   "outputs": [],
   "source": [
    "sub_train_X, sub_train_Y = nd.array(trainX_dt, ctx=ctx), nd.array(trainY_dt, ctx=ctx)\n",
    "sub_valid_X, sub_valid_Y = nd.array(testX_dt, ctx=ctx), nd.array(testY_dt, ctx=ctx)\n",
    "future_train_X, future_test_X = nd.array(trainY2_dt, ctx=ctx), nd.array(testY2_dt, ctx=ctx)\n",
    "\n",
    "sub_train_nd = gluon.data.ArrayDataset(sub_train_X, future_train_X, sub_train_Y)"
   ]
  },
  {
   "cell_type": "code",
   "execution_count": null,
   "metadata": {},
   "outputs": [
    {
     "name": "stderr",
     "output_type": "stream",
     "text": [
      "\r",
      "  0%|          | 0/100 [00:00<?, ?it/s]"
     ]
    },
    {
     "name": "stdout",
     "output_type": "stream",
     "text": [
      "training_data_nb: 3008\n",
      "Epoch 0, valid loss: 1041.398315 valid rho-risk 50: 2.081409,  valid rho-risk 90: 1.100445\n"
     ]
    },
    {
     "name": "stderr",
     "output_type": "stream",
     "text": [
      "\r",
      "  1%|          | 1/100 [00:03<05:28,  3.32s/it]"
     ]
    },
    {
     "name": "stdout",
     "output_type": "stream",
     "text": [
      "training_data_nb: 3008\n",
      "Epoch 1, valid loss: 1015.951355 valid rho-risk 50: 2.030549,  valid rho-risk 90: 1.097103\n"
     ]
    },
    {
     "name": "stderr",
     "output_type": "stream",
     "text": [
      "\r",
      "  2%|▏         | 2/100 [00:06<05:09,  3.16s/it]"
     ]
    },
    {
     "name": "stdout",
     "output_type": "stream",
     "text": [
      "training_data_nb: 3008\n",
      "Epoch 2, valid loss: 970.023438 valid rho-risk 50: 1.938754,  valid rho-risk 90: 1.060974\n"
     ]
    },
    {
     "name": "stderr",
     "output_type": "stream",
     "text": [
      "\r",
      "  3%|▎         | 3/100 [00:08<04:55,  3.05s/it]"
     ]
    },
    {
     "name": "stdout",
     "output_type": "stream",
     "text": [
      "training_data_nb: 3008\n",
      "Epoch 3, valid loss: 947.794739 valid rho-risk 50: 1.894327,  valid rho-risk 90: 1.051959\n"
     ]
    },
    {
     "name": "stderr",
     "output_type": "stream",
     "text": [
      "\r",
      "  4%|▍         | 4/100 [00:11<04:43,  2.96s/it]"
     ]
    },
    {
     "name": "stdout",
     "output_type": "stream",
     "text": [
      "training_data_nb: 3008\n",
      "Epoch 4, valid loss: 930.272766 valid rho-risk 50: 1.859306,  valid rho-risk 90: 1.063692\n"
     ]
    },
    {
     "name": "stderr",
     "output_type": "stream",
     "text": [
      "\r",
      "  5%|▌         | 5/100 [00:14<04:36,  2.91s/it]"
     ]
    },
    {
     "name": "stdout",
     "output_type": "stream",
     "text": [
      "training_data_nb: 3008\n",
      "Epoch 5, valid loss: 938.239380 valid rho-risk 50: 1.875229,  valid rho-risk 90: 1.073029\n"
     ]
    },
    {
     "name": "stderr",
     "output_type": "stream",
     "text": [
      "\r",
      "  6%|▌         | 6/100 [00:17<04:30,  2.87s/it]"
     ]
    },
    {
     "name": "stdout",
     "output_type": "stream",
     "text": [
      "training_data_nb: 3008\n",
      "Epoch 6, valid loss: 873.770569 valid rho-risk 50: 1.746377,  valid rho-risk 90: 1.071353\n"
     ]
    },
    {
     "name": "stderr",
     "output_type": "stream",
     "text": [
      "\r",
      "  7%|▋         | 7/100 [00:20<04:24,  2.84s/it]"
     ]
    },
    {
     "name": "stdout",
     "output_type": "stream",
     "text": [
      "training_data_nb: 3008\n",
      "Epoch 7, valid loss: 857.616943 valid rho-risk 50: 1.714091,  valid rho-risk 90: 1.063732\n"
     ]
    },
    {
     "name": "stderr",
     "output_type": "stream",
     "text": [
      "\r",
      "  8%|▊         | 8/100 [00:22<04:20,  2.83s/it]"
     ]
    },
    {
     "name": "stdout",
     "output_type": "stream",
     "text": [
      "training_data_nb: 3008\n",
      "Epoch 8, valid loss: 832.255981 valid rho-risk 50: 1.663403,  valid rho-risk 90: 1.069915\n"
     ]
    },
    {
     "name": "stderr",
     "output_type": "stream",
     "text": [
      "\r",
      "  9%|▉         | 9/100 [00:25<04:15,  2.81s/it]"
     ]
    },
    {
     "name": "stdout",
     "output_type": "stream",
     "text": [
      "training_data_nb: 3008\n",
      "Epoch 9, valid loss: 832.385315 valid rho-risk 50: 1.663661,  valid rho-risk 90: 1.071070\n"
     ]
    },
    {
     "name": "stderr",
     "output_type": "stream",
     "text": [
      "\r",
      " 10%|█         | 10/100 [00:28<04:12,  2.80s/it]"
     ]
    },
    {
     "name": "stdout",
     "output_type": "stream",
     "text": [
      "training_data_nb: 3008\n",
      "Epoch 10, valid loss: 785.324646 valid rho-risk 50: 1.569603,  valid rho-risk 90: 1.074845\n"
     ]
    },
    {
     "name": "stderr",
     "output_type": "stream",
     "text": [
      "\r",
      " 11%|█         | 11/100 [00:31<04:07,  2.78s/it]"
     ]
    },
    {
     "name": "stdout",
     "output_type": "stream",
     "text": [
      "training_data_nb: 3008\n",
      "Epoch 11, valid loss: 775.261108 valid rho-risk 50: 1.549489,  valid rho-risk 90: 1.071247\n"
     ]
    },
    {
     "name": "stderr",
     "output_type": "stream",
     "text": [
      "\r",
      " 12%|█▏        | 12/100 [00:33<04:04,  2.78s/it]"
     ]
    },
    {
     "name": "stdout",
     "output_type": "stream",
     "text": [
      "training_data_nb: 3008\n",
      "Epoch 12, valid loss: 761.230347 valid rho-risk 50: 1.521446,  valid rho-risk 90: 1.058621\n"
     ]
    },
    {
     "name": "stderr",
     "output_type": "stream",
     "text": [
      "\r",
      " 13%|█▎        | 13/100 [00:36<04:02,  2.79s/it]"
     ]
    },
    {
     "name": "stdout",
     "output_type": "stream",
     "text": [
      "training_data_nb: 3008\n",
      "Epoch 13, valid loss: 754.225342 valid rho-risk 50: 1.507446,  valid rho-risk 90: 1.055728\n"
     ]
    },
    {
     "name": "stderr",
     "output_type": "stream",
     "text": [
      "\r",
      " 14%|█▍        | 14/100 [00:39<03:58,  2.78s/it]"
     ]
    },
    {
     "name": "stdout",
     "output_type": "stream",
     "text": [
      "training_data_nb: 3008\n",
      "Epoch 14, valid loss: 704.656006 valid rho-risk 50: 1.408373,  valid rho-risk 90: 1.044323\n"
     ]
    },
    {
     "name": "stderr",
     "output_type": "stream",
     "text": [
      "\r",
      " 15%|█▌        | 15/100 [00:42<03:55,  2.77s/it]"
     ]
    },
    {
     "name": "stdout",
     "output_type": "stream",
     "text": [
      "training_data_nb: 3008\n",
      "Epoch 15, valid loss: 727.627197 valid rho-risk 50: 1.454285,  valid rho-risk 90: 1.057201\n"
     ]
    },
    {
     "name": "stderr",
     "output_type": "stream",
     "text": [
      "\r",
      " 16%|█▌        | 16/100 [00:44<03:52,  2.77s/it]"
     ]
    },
    {
     "name": "stdout",
     "output_type": "stream",
     "text": [
      "training_data_nb: 3008\n",
      "Epoch 16, valid loss: 710.515259 valid rho-risk 50: 1.420084,  valid rho-risk 90: 1.042805\n"
     ]
    },
    {
     "name": "stderr",
     "output_type": "stream",
     "text": [
      "\r",
      " 17%|█▋        | 17/100 [00:47<03:49,  2.76s/it]"
     ]
    },
    {
     "name": "stdout",
     "output_type": "stream",
     "text": [
      "training_data_nb: 3008\n",
      "Epoch 17, valid loss: 702.829895 valid rho-risk 50: 1.404723,  valid rho-risk 90: 1.058861\n"
     ]
    },
    {
     "name": "stderr",
     "output_type": "stream",
     "text": [
      "\r",
      " 18%|█▊        | 18/100 [00:50<03:45,  2.76s/it]"
     ]
    },
    {
     "name": "stdout",
     "output_type": "stream",
     "text": [
      "training_data_nb: 3008\n",
      "Epoch 18, valid loss: 697.429688 valid rho-risk 50: 1.393930,  valid rho-risk 90: 1.075970\n"
     ]
    },
    {
     "name": "stderr",
     "output_type": "stream",
     "text": [
      "\r",
      " 19%|█▉        | 19/100 [00:53<03:44,  2.78s/it]"
     ]
    },
    {
     "name": "stdout",
     "output_type": "stream",
     "text": [
      "training_data_nb: 3008\n",
      "Epoch 19, valid loss: 676.705200 valid rho-risk 50: 1.352509,  valid rho-risk 90: 1.043672\n"
     ]
    },
    {
     "name": "stderr",
     "output_type": "stream",
     "text": [
      "\r",
      " 20%|██        | 20/100 [00:55<03:41,  2.77s/it]"
     ]
    },
    {
     "name": "stdout",
     "output_type": "stream",
     "text": [
      "training_data_nb: 3008\n",
      "Epoch 20, valid loss: 681.749878 valid rho-risk 50: 1.362591,  valid rho-risk 90: 1.068924\n"
     ]
    },
    {
     "name": "stderr",
     "output_type": "stream",
     "text": [
      "\r",
      " 21%|██        | 21/100 [00:58<03:39,  2.78s/it]"
     ]
    },
    {
     "name": "stdout",
     "output_type": "stream",
     "text": [
      "training_data_nb: 3008\n",
      "Epoch 21, valid loss: 676.739929 valid rho-risk 50: 1.352578,  valid rho-risk 90: 1.033281\n"
     ]
    },
    {
     "name": "stderr",
     "output_type": "stream",
     "text": [
      "\r",
      " 22%|██▏       | 22/100 [01:01<03:36,  2.78s/it]"
     ]
    },
    {
     "name": "stdout",
     "output_type": "stream",
     "text": [
      "training_data_nb: 3008\n",
      "Epoch 22, valid loss: 668.876343 valid rho-risk 50: 1.336861,  valid rho-risk 90: 1.023671\n"
     ]
    },
    {
     "name": "stderr",
     "output_type": "stream",
     "text": [
      "\r",
      " 23%|██▎       | 23/100 [01:04<03:33,  2.77s/it]"
     ]
    },
    {
     "name": "stdout",
     "output_type": "stream",
     "text": [
      "training_data_nb: 3008\n",
      "Epoch 23, valid loss: 678.860596 valid rho-risk 50: 1.356817,  valid rho-risk 90: 1.029102\n"
     ]
    },
    {
     "name": "stderr",
     "output_type": "stream",
     "text": [
      "\r",
      " 24%|██▍       | 24/100 [01:07<03:33,  2.80s/it]"
     ]
    },
    {
     "name": "stdout",
     "output_type": "stream",
     "text": [
      "training_data_nb: 3008\n",
      "Epoch 24, valid loss: 684.534607 valid rho-risk 50: 1.368157,  valid rho-risk 90: 1.060571\n"
     ]
    },
    {
     "name": "stderr",
     "output_type": "stream",
     "text": [
      "\r",
      " 25%|██▌       | 25/100 [01:10<03:30,  2.81s/it]"
     ]
    },
    {
     "name": "stdout",
     "output_type": "stream",
     "text": [
      "training_data_nb: 3008\n",
      "Epoch 25, valid loss: 671.988037 valid rho-risk 50: 1.343081,  valid rho-risk 90: 1.017722\n"
     ]
    },
    {
     "name": "stderr",
     "output_type": "stream",
     "text": [
      "\r",
      " 26%|██▌       | 26/100 [01:12<03:26,  2.79s/it]"
     ]
    },
    {
     "name": "stdout",
     "output_type": "stream",
     "text": [
      "training_data_nb: 3008\n",
      "Epoch 26, valid loss: 686.425598 valid rho-risk 50: 1.371937,  valid rho-risk 90: 1.035894\n"
     ]
    },
    {
     "name": "stderr",
     "output_type": "stream",
     "text": [
      "\r",
      " 27%|██▋       | 27/100 [01:15<03:23,  2.79s/it]"
     ]
    },
    {
     "name": "stdout",
     "output_type": "stream",
     "text": [
      "training_data_nb: 3008\n",
      "Epoch 27, valid loss: 727.730957 valid rho-risk 50: 1.454492,  valid rho-risk 90: 1.037860\n"
     ]
    },
    {
     "name": "stderr",
     "output_type": "stream",
     "text": [
      "\r",
      " 28%|██▊       | 28/100 [01:18<03:20,  2.78s/it]"
     ]
    },
    {
     "name": "stdout",
     "output_type": "stream",
     "text": [
      "training_data_nb: 3008\n",
      "Epoch 28, valid loss: 677.247864 valid rho-risk 50: 1.353593,  valid rho-risk 90: 1.008664\n"
     ]
    },
    {
     "name": "stderr",
     "output_type": "stream",
     "text": [
      "\r",
      " 29%|██▉       | 29/100 [01:21<03:17,  2.78s/it]"
     ]
    },
    {
     "name": "stdout",
     "output_type": "stream",
     "text": [
      "training_data_nb: 3008\n",
      "Epoch 29, valid loss: 681.092651 valid rho-risk 50: 1.361278,  valid rho-risk 90: 1.012289\n"
     ]
    },
    {
     "name": "stderr",
     "output_type": "stream",
     "text": [
      "\r",
      " 30%|███       | 30/100 [01:23<03:14,  2.78s/it]"
     ]
    },
    {
     "name": "stdout",
     "output_type": "stream",
     "text": [
      "training_data_nb: 3008\n",
      "Epoch 30, valid loss: 689.555359 valid rho-risk 50: 1.378192,  valid rho-risk 90: 1.008802\n"
     ]
    },
    {
     "name": "stderr",
     "output_type": "stream",
     "text": [
      "\r",
      " 31%|███       | 31/100 [01:26<03:11,  2.78s/it]"
     ]
    },
    {
     "name": "stdout",
     "output_type": "stream",
     "text": [
      "training_data_nb: 3008\n",
      "Epoch 31, valid loss: 702.479675 valid rho-risk 50: 1.404023,  valid rho-risk 90: 0.988636\n"
     ]
    },
    {
     "name": "stderr",
     "output_type": "stream",
     "text": [
      "\r",
      " 32%|███▏      | 32/100 [01:29<03:09,  2.79s/it]"
     ]
    },
    {
     "name": "stdout",
     "output_type": "stream",
     "text": [
      "training_data_nb: 3008\n",
      "Epoch 32, valid loss: 704.484802 valid rho-risk 50: 1.408031,  valid rho-risk 90: 0.999754\n"
     ]
    },
    {
     "name": "stderr",
     "output_type": "stream",
     "text": [
      "\r",
      " 33%|███▎      | 33/100 [01:32<03:05,  2.78s/it]"
     ]
    },
    {
     "name": "stdout",
     "output_type": "stream",
     "text": [
      "training_data_nb: 3008\n",
      "Epoch 33, valid loss: 698.586792 valid rho-risk 50: 1.396243,  valid rho-risk 90: 0.976704\n"
     ]
    },
    {
     "name": "stderr",
     "output_type": "stream",
     "text": [
      "\r",
      " 34%|███▍      | 34/100 [01:34<03:03,  2.77s/it]"
     ]
    },
    {
     "name": "stdout",
     "output_type": "stream",
     "text": [
      "training_data_nb: 3008\n",
      "Epoch 34, valid loss: 697.308594 valid rho-risk 50: 1.393688,  valid rho-risk 90: 0.958753\n"
     ]
    },
    {
     "name": "stderr",
     "output_type": "stream",
     "text": [
      "\r",
      " 35%|███▌      | 35/100 [01:37<03:02,  2.80s/it]"
     ]
    },
    {
     "name": "stdout",
     "output_type": "stream",
     "text": [
      "training_data_nb: 3008\n",
      "Epoch 35, valid loss: 697.126770 valid rho-risk 50: 1.393325,  valid rho-risk 90: 0.965534\n"
     ]
    },
    {
     "name": "stderr",
     "output_type": "stream",
     "text": [
      "\r",
      " 36%|███▌      | 36/100 [01:40<02:58,  2.79s/it]"
     ]
    },
    {
     "name": "stdout",
     "output_type": "stream",
     "text": [
      "training_data_nb: 3008\n",
      "Epoch 36, valid loss: 704.544800 valid rho-risk 50: 1.408151,  valid rho-risk 90: 0.970954\n"
     ]
    },
    {
     "name": "stderr",
     "output_type": "stream",
     "text": [
      "\r",
      " 37%|███▋      | 37/100 [01:43<02:55,  2.78s/it]"
     ]
    },
    {
     "name": "stdout",
     "output_type": "stream",
     "text": [
      "training_data_nb: 3008\n",
      "Epoch 37, valid loss: 709.576904 valid rho-risk 50: 1.418208,  valid rho-risk 90: 0.973053\n"
     ]
    },
    {
     "name": "stderr",
     "output_type": "stream",
     "text": [
      "\r",
      " 38%|███▊      | 38/100 [01:46<02:52,  2.79s/it]"
     ]
    },
    {
     "name": "stdout",
     "output_type": "stream",
     "text": [
      "training_data_nb: 3008\n",
      "Epoch 38, valid loss: 701.392639 valid rho-risk 50: 1.401851,  valid rho-risk 90: 0.959318\n"
     ]
    },
    {
     "name": "stderr",
     "output_type": "stream",
     "text": [
      "\r",
      " 39%|███▉      | 39/100 [01:48<02:49,  2.78s/it]"
     ]
    },
    {
     "name": "stdout",
     "output_type": "stream",
     "text": [
      "training_data_nb: 3008\n",
      "Epoch 39, valid loss: 701.203735 valid rho-risk 50: 1.401473,  valid rho-risk 90: 0.955334\n"
     ]
    },
    {
     "name": "stderr",
     "output_type": "stream",
     "text": [
      "\r",
      " 40%|████      | 40/100 [01:51<02:46,  2.77s/it]"
     ]
    },
    {
     "name": "stdout",
     "output_type": "stream",
     "text": [
      "training_data_nb: 3008\n",
      "Epoch 40, valid loss: 701.371704 valid rho-risk 50: 1.401809,  valid rho-risk 90: 0.956510\n"
     ]
    },
    {
     "name": "stderr",
     "output_type": "stream",
     "text": [
      "\r",
      " 41%|████      | 41/100 [01:54<02:44,  2.79s/it]"
     ]
    },
    {
     "name": "stdout",
     "output_type": "stream",
     "text": [
      "training_data_nb: 3008\n",
      "Epoch 41, valid loss: 714.842407 valid rho-risk 50: 1.428732,  valid rho-risk 90: 0.965054\n"
     ]
    },
    {
     "name": "stderr",
     "output_type": "stream",
     "text": [
      "\r",
      " 42%|████▏     | 42/100 [01:57<02:41,  2.78s/it]"
     ]
    },
    {
     "name": "stdout",
     "output_type": "stream",
     "text": [
      "training_data_nb: 3008\n",
      "Epoch 42, valid loss: 703.689636 valid rho-risk 50: 1.406442,  valid rho-risk 90: 0.954142\n"
     ]
    },
    {
     "name": "stderr",
     "output_type": "stream",
     "text": [
      "\r",
      " 43%|████▎     | 43/100 [02:00<02:39,  2.80s/it]"
     ]
    },
    {
     "name": "stdout",
     "output_type": "stream",
     "text": [
      "training_data_nb: 3008\n",
      "Epoch 43, valid loss: 694.715088 valid rho-risk 50: 1.388505,  valid rho-risk 90: 0.943421\n"
     ]
    },
    {
     "name": "stderr",
     "output_type": "stream",
     "text": [
      "\r",
      " 44%|████▍     | 44/100 [02:02<02:36,  2.79s/it]"
     ]
    },
    {
     "name": "stdout",
     "output_type": "stream",
     "text": [
      "training_data_nb: 3008\n",
      "Epoch 44, valid loss: 699.488098 valid rho-risk 50: 1.398044,  valid rho-risk 90: 0.945725\n"
     ]
    },
    {
     "name": "stderr",
     "output_type": "stream",
     "text": [
      "\r",
      " 45%|████▌     | 45/100 [02:05<02:32,  2.77s/it]"
     ]
    },
    {
     "name": "stdout",
     "output_type": "stream",
     "text": [
      "training_data_nb: 3008\n",
      "Epoch 45, valid loss: 704.975952 valid rho-risk 50: 1.409013,  valid rho-risk 90: 0.953216\n"
     ]
    },
    {
     "name": "stderr",
     "output_type": "stream",
     "text": [
      "\r",
      " 46%|████▌     | 46/100 [02:08<02:30,  2.78s/it]"
     ]
    },
    {
     "name": "stdout",
     "output_type": "stream",
     "text": [
      "training_data_nb: 3008\n",
      "Epoch 46, valid loss: 685.269714 valid rho-risk 50: 1.369626,  valid rho-risk 90: 0.935645\n"
     ]
    },
    {
     "name": "stderr",
     "output_type": "stream",
     "text": [
      "\r",
      " 47%|████▋     | 47/100 [02:11<02:27,  2.78s/it]"
     ]
    },
    {
     "name": "stdout",
     "output_type": "stream",
     "text": [
      "training_data_nb: 3008\n",
      "Epoch 47, valid loss: 692.808594 valid rho-risk 50: 1.384694,  valid rho-risk 90: 0.943168\n"
     ]
    },
    {
     "name": "stderr",
     "output_type": "stream",
     "text": [
      "\r",
      " 48%|████▊     | 48/100 [02:13<02:23,  2.77s/it]"
     ]
    },
    {
     "name": "stdout",
     "output_type": "stream",
     "text": [
      "training_data_nb: 3008\n",
      "Epoch 48, valid loss: 690.844971 valid rho-risk 50: 1.380769,  valid rho-risk 90: 0.941194\n"
     ]
    },
    {
     "name": "stderr",
     "output_type": "stream",
     "text": [
      "\r",
      " 49%|████▉     | 49/100 [02:16<02:21,  2.78s/it]"
     ]
    },
    {
     "name": "stdout",
     "output_type": "stream",
     "text": [
      "training_data_nb: 3008\n",
      "Epoch 49, valid loss: 690.364197 valid rho-risk 50: 1.379808,  valid rho-risk 90: 0.935653\n"
     ]
    },
    {
     "name": "stderr",
     "output_type": "stream",
     "text": [
      "\r",
      " 50%|█████     | 50/100 [02:19<02:18,  2.77s/it]"
     ]
    },
    {
     "name": "stdout",
     "output_type": "stream",
     "text": [
      "training_data_nb: 3008\n",
      "Epoch 50, valid loss: 687.826294 valid rho-risk 50: 1.374736,  valid rho-risk 90: 0.932466\n"
     ]
    },
    {
     "name": "stderr",
     "output_type": "stream",
     "text": [
      "\r",
      " 51%|█████     | 51/100 [02:22<02:15,  2.76s/it]"
     ]
    },
    {
     "name": "stdout",
     "output_type": "stream",
     "text": [
      "training_data_nb: 3008\n",
      "Epoch 51, valid loss: 682.896362 valid rho-risk 50: 1.364883,  valid rho-risk 90: 0.927545\n"
     ]
    },
    {
     "name": "stderr",
     "output_type": "stream",
     "text": [
      "\r",
      " 52%|█████▏    | 52/100 [02:25<02:12,  2.77s/it]"
     ]
    },
    {
     "name": "stdout",
     "output_type": "stream",
     "text": [
      "training_data_nb: 3008\n",
      "Epoch 52, valid loss: 690.414734 valid rho-risk 50: 1.379910,  valid rho-risk 90: 0.932395\n"
     ]
    },
    {
     "name": "stderr",
     "output_type": "stream",
     "text": [
      "\r",
      " 53%|█████▎    | 53/100 [02:27<02:09,  2.76s/it]"
     ]
    },
    {
     "name": "stdout",
     "output_type": "stream",
     "text": [
      "training_data_nb: 3008\n",
      "Epoch 53, valid loss: 689.984497 valid rho-risk 50: 1.379050,  valid rho-risk 90: 0.931280\n"
     ]
    },
    {
     "name": "stderr",
     "output_type": "stream",
     "text": [
      "\r",
      " 54%|█████▍    | 54/100 [02:30<02:08,  2.80s/it]"
     ]
    },
    {
     "name": "stdout",
     "output_type": "stream",
     "text": [
      "training_data_nb: 3008\n",
      "Epoch 54, valid loss: 682.082642 valid rho-risk 50: 1.363256,  valid rho-risk 90: 0.925749\n"
     ]
    },
    {
     "name": "stderr",
     "output_type": "stream",
     "text": [
      "\r",
      " 55%|█████▌    | 55/100 [02:33<02:05,  2.78s/it]"
     ]
    },
    {
     "name": "stdout",
     "output_type": "stream",
     "text": [
      "training_data_nb: 3008\n",
      "Epoch 55, valid loss: 683.151489 valid rho-risk 50: 1.365393,  valid rho-risk 90: 0.933342\n"
     ]
    },
    {
     "name": "stderr",
     "output_type": "stream",
     "text": [
      "\r",
      " 56%|█████▌    | 56/100 [02:36<02:01,  2.77s/it]"
     ]
    },
    {
     "name": "stdout",
     "output_type": "stream",
     "text": [
      "training_data_nb: 3008\n",
      "Epoch 56, valid loss: 680.707642 valid rho-risk 50: 1.360508,  valid rho-risk 90: 0.930244\n"
     ]
    },
    {
     "name": "stderr",
     "output_type": "stream",
     "text": [
      "\r",
      " 57%|█████▋    | 57/100 [02:38<01:59,  2.78s/it]"
     ]
    },
    {
     "name": "stdout",
     "output_type": "stream",
     "text": [
      "training_data_nb: 3008\n",
      "Epoch 57, valid loss: 673.011536 valid rho-risk 50: 1.345126,  valid rho-risk 90: 0.929237\n"
     ]
    },
    {
     "name": "stderr",
     "output_type": "stream",
     "text": [
      "\r",
      " 58%|█████▊    | 58/100 [02:41<01:56,  2.77s/it]"
     ]
    },
    {
     "name": "stdout",
     "output_type": "stream",
     "text": [
      "training_data_nb: 3008\n",
      "Epoch 58, valid loss: 678.529846 valid rho-risk 50: 1.356156,  valid rho-risk 90: 0.935872\n"
     ]
    },
    {
     "name": "stderr",
     "output_type": "stream",
     "text": [
      "\r",
      " 59%|█████▉    | 59/100 [02:44<01:53,  2.76s/it]"
     ]
    },
    {
     "name": "stdout",
     "output_type": "stream",
     "text": [
      "training_data_nb: 3008\n",
      "Epoch 59, valid loss: 686.863098 valid rho-risk 50: 1.372811,  valid rho-risk 90: 0.933856\n"
     ]
    },
    {
     "name": "stderr",
     "output_type": "stream",
     "text": [
      "\r",
      " 60%|██████    | 60/100 [02:47<01:51,  2.78s/it]"
     ]
    },
    {
     "name": "stdout",
     "output_type": "stream",
     "text": [
      "training_data_nb: 3008\n",
      "Epoch 60, valid loss: 683.774963 valid rho-risk 50: 1.366639,  valid rho-risk 90: 0.938098\n"
     ]
    },
    {
     "name": "stderr",
     "output_type": "stream",
     "text": [
      "\r",
      " 61%|██████    | 61/100 [02:50<01:48,  2.78s/it]"
     ]
    },
    {
     "name": "stdout",
     "output_type": "stream",
     "text": [
      "training_data_nb: 3008\n",
      "Epoch 61, valid loss: 691.651733 valid rho-risk 50: 1.382382,  valid rho-risk 90: 0.938316\n"
     ]
    },
    {
     "name": "stderr",
     "output_type": "stream",
     "text": [
      "\r",
      " 62%|██████▏   | 62/100 [02:52<01:46,  2.80s/it]"
     ]
    },
    {
     "name": "stdout",
     "output_type": "stream",
     "text": [
      "training_data_nb: 3008\n",
      "Epoch 62, valid loss: 693.596985 valid rho-risk 50: 1.386270,  valid rho-risk 90: 0.938182\n"
     ]
    },
    {
     "name": "stderr",
     "output_type": "stream",
     "text": [
      "\r",
      " 63%|██████▎   | 63/100 [02:54<01:33,  2.53s/it]"
     ]
    },
    {
     "name": "stdout",
     "output_type": "stream",
     "text": [
      "training_data_nb: 3008\n",
      "Epoch 63, valid loss: 696.325378 valid rho-risk 50: 1.391723,  valid rho-risk 90: 0.938951\n"
     ]
    },
    {
     "name": "stderr",
     "output_type": "stream",
     "text": [
      "\r",
      " 64%|██████▍   | 64/100 [02:56<01:24,  2.35s/it]"
     ]
    },
    {
     "name": "stdout",
     "output_type": "stream",
     "text": [
      "training_data_nb: 3008\n",
      "Epoch 64, valid loss: 702.014771 valid rho-risk 50: 1.403094,  valid rho-risk 90: 0.939736\n"
     ]
    },
    {
     "name": "stderr",
     "output_type": "stream",
     "text": [
      "\r",
      " 65%|██████▌   | 65/100 [02:58<01:17,  2.22s/it]"
     ]
    },
    {
     "name": "stdout",
     "output_type": "stream",
     "text": [
      "training_data_nb: 3008\n",
      "Epoch 65, valid loss: 694.836243 valid rho-risk 50: 1.388747,  valid rho-risk 90: 0.941954\n"
     ]
    },
    {
     "name": "stderr",
     "output_type": "stream",
     "text": [
      "\r",
      " 66%|██████▌   | 66/100 [03:00<01:12,  2.13s/it]"
     ]
    },
    {
     "name": "stdout",
     "output_type": "stream",
     "text": [
      "training_data_nb: 3008\n",
      "Epoch 66, valid loss: 697.769592 valid rho-risk 50: 1.394609,  valid rho-risk 90: 0.946664\n"
     ]
    },
    {
     "name": "stderr",
     "output_type": "stream",
     "text": [
      "\r",
      " 67%|██████▋   | 67/100 [03:02<01:08,  2.07s/it]"
     ]
    },
    {
     "name": "stdout",
     "output_type": "stream",
     "text": [
      "training_data_nb: 3008\n",
      "Epoch 67, valid loss: 707.718140 valid rho-risk 50: 1.414493,  valid rho-risk 90: 0.950648\n"
     ]
    },
    {
     "name": "stderr",
     "output_type": "stream",
     "text": [
      "\r",
      " 68%|██████▊   | 68/100 [03:04<01:04,  2.03s/it]"
     ]
    },
    {
     "name": "stdout",
     "output_type": "stream",
     "text": [
      "training_data_nb: 3008\n",
      "Epoch 68, valid loss: 694.586792 valid rho-risk 50: 1.388248,  valid rho-risk 90: 0.944635\n"
     ]
    },
    {
     "name": "stderr",
     "output_type": "stream",
     "text": [
      "\r",
      " 69%|██████▉   | 69/100 [03:06<01:01,  1.99s/it]"
     ]
    },
    {
     "name": "stdout",
     "output_type": "stream",
     "text": [
      "training_data_nb: 3008\n",
      "Epoch 69, valid loss: 703.075989 valid rho-risk 50: 1.405215,  valid rho-risk 90: 0.943686\n"
     ]
    },
    {
     "name": "stderr",
     "output_type": "stream",
     "text": [
      "\r",
      " 70%|███████   | 70/100 [03:08<00:59,  1.97s/it]"
     ]
    }
   ],
   "source": [
    "model1 = TCN()\n",
    "#choose parameters\n",
    "batch_size= 32\n",
    "n_epochs=100\n",
    "\"\"\"\n",
    "The model training\n",
    "\"\"\"\n",
    "### The model parameters\n",
    "abs_loss = gluon.loss.L1Loss()\n",
    "L2_loss = gluon.loss.L2Loss()\n",
    "huber_loss = gluon.loss.HuberLoss()\n",
    "initializer = mx.initializer.MSRAPrelu()\n",
    "optimizer = 'adam';\n",
    "optimizer_params = {'learning_rate': 0.01}\n",
    "\n",
    "trainer_params_list = {'batch_size': batch_size,'epoch_num':n_epochs,\n",
    "                'loss_func': abs_loss, 'initializer': initializer,\n",
    "                'optimizer':optimizer, 'optimizer_params':optimizer_params}\n",
    "train_mark='testing'\n",
    "nn_trainer(train_mark, model1, sub_train_nd, sub_valid_X,future_test_X, sub_valid_Y, trainer_params_list=trainer_params_list, ctx=ctx)"
   ]
  }
 ],
 "metadata": {
  "kernelspec": {
   "display_name": "Python 3",
   "language": "python",
   "name": "python3"
  },
  "language_info": {
   "codemirror_mode": {
    "name": "ipython",
    "version": 3
   },
   "file_extension": ".py",
   "mimetype": "text/x-python",
   "name": "python",
   "nbconvert_exporter": "python",
   "pygments_lexer": "ipython3",
   "version": "3.6.4"
  }
 },
 "nbformat": 4,
 "nbformat_minor": 2
}
